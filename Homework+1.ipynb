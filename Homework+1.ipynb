{
 "cells": [
  {
   "cell_type": "code",
   "execution_count": 3,
   "metadata": {
    "collapsed": false
   },
   "outputs": [
    {
     "name": "stdout",
     "output_type": "stream",
     "text": [
      "[-15 -14 -13 -12 -11 -10  -9  -8  -7  -6  -5  -4  -3  -2  -1   0   1   2\n",
      "   3   4   5   6   7   8   9  10  11  12  13  14  15]\n",
      "(31,)\n"
     ]
    }
   ],
   "source": [
    "#Q1a\n",
    "import numpy as np\n",
    "counter = np.arange (-15,16,1)\n",
    "print(counter)\n",
    "print(counter.shape)"
   ]
  },
  {
   "cell_type": "code",
   "execution_count": 12,
   "metadata": {
    "collapsed": false
   },
   "outputs": [
    {
     "name": "stdout",
     "output_type": "stream",
     "text": [
      "[ 10  12  14  16  18  20  22  24  26  28  30  32  34  36  38  40  42  44\n",
      "  46  48  50  52  54  56  58  60  62  64  66  68  70  72  74  76  78  80\n",
      "  82  84  86  88  90  92  94  96  98 100]\n",
      "(46,)\n"
     ]
    }
   ],
   "source": [
    "#Q1b\n",
    "even = np.arange(10,102,2)\n",
    "print(even)\n",
    "print(even.shape)"
   ]
  },
  {
   "cell_type": "code",
   "execution_count": 14,
   "metadata": {
    "collapsed": false
   },
   "outputs": [
    {
     "name": "stdout",
     "output_type": "stream",
     "text": [
      "[1000  950  900  850  800  750  700  650  600  550  500  450  400  350  300\n",
      "  250  200  150  100]\n",
      "(19,)\n"
     ]
    }
   ],
   "source": [
    "#Q1c\n",
    "backcounter = np.arange(1000,98,-50)\n",
    "print(backcounter)\n",
    "print(backcounter.shape)"
   ]
  },
  {
   "cell_type": "code",
   "execution_count": 25,
   "metadata": {
    "collapsed": false
   },
   "outputs": [
    {
     "name": "stdout",
     "output_type": "stream",
     "text": [
      "[  1.     1.25   1.5    1.75   2.     2.25   2.5    2.75   3.     3.25\n",
      "   3.5    3.75   4.     4.25   4.5    4.75   5.     5.25   5.5    5.75   6.\n",
      "   6.25   6.5    6.75   7.     7.25   7.5    7.75   8.     8.25   8.5\n",
      "   8.75   9.     9.25   9.5    9.75  10.    10.25  10.5   10.75  11.    11.25\n",
      "  11.5   11.75  12.    12.25  12.5   12.75  13.    13.25  13.5   13.75  14.\n",
      "  14.25  14.5   14.75  15.    15.25  15.5   15.75  16.    16.25  16.5\n",
      "  16.75  17.    17.25  17.5   17.75  18.    18.25  18.5   18.75  19.    19.25\n",
      "  19.5   19.75]\n",
      "[   1.        1.5625    2.25      3.0625    4.        5.0625    6.25\n",
      "    7.5625    9.       10.5625   12.25     14.0625   16.       18.0625\n",
      "   20.25     22.5625   25.       27.5625   30.25     33.0625   36.\n",
      "   39.0625   42.25     45.5625   49.       52.5625   56.25     60.0625\n",
      "   64.       68.0625   72.25     76.5625   81.       85.5625   90.25\n",
      "   95.0625  100.      105.0625  110.25    115.5625  121.      126.5625\n",
      "  132.25    138.0625  144.      150.0625  156.25    162.5625  169.\n",
      "  175.5625  182.25    189.0625  196.      203.0625  210.25    217.5625\n",
      "  225.      232.5625  240.25    248.0625  256.      264.0625  272.25\n",
      "  280.5625  289.      297.5625  306.25    315.0625  324.      333.0625\n",
      "  342.25    351.5625  361.      370.5625  380.25    390.0625]\n",
      "[ 1.          1.11803399  1.22474487  1.32287566  1.41421356  1.5\n",
      "  1.58113883  1.6583124   1.73205081  1.80277564  1.87082869  1.93649167\n",
      "  2.          2.06155281  2.12132034  2.17944947  2.23606798  2.29128785\n",
      "  2.34520788  2.39791576  2.44948974  2.5         2.54950976  2.59807621\n",
      "  2.64575131  2.6925824   2.73861279  2.78388218  2.82842712  2.87228132\n",
      "  2.91547595  2.95803989  3.          3.04138127  3.082207    3.122499\n",
      "  3.16227766  3.20156212  3.24037035  3.27871926  3.31662479  3.35410197\n",
      "  3.39116499  3.4278273   3.46410162  3.5         3.53553391  3.57071421\n",
      "  3.60555128  3.64005494  3.67423461  3.70809924  3.74165739  3.77491722\n",
      "  3.80788655  3.84057287  3.87298335  3.90512484  3.93700394  3.96862697\n",
      "  4.          4.03112887  4.0620192   4.09267639  4.12310563  4.15331193\n",
      "  4.18330013  4.21307489  4.24264069  4.27200187  4.30116263  4.33012702\n",
      "  4.35889894  4.38748219  4.41588043  4.44409721]\n"
     ]
    }
   ],
   "source": [
    "#Q1d\n",
    "N = 3\n",
    "a = np.arange(1, 20, 0.25)\n",
    "b = np.array(a*a)\n",
    "c = np.sqrt(a)\n",
    "print(a)\n",
    "print(b)\n",
    "print(c)"
   ]
  },
  {
   "cell_type": "code",
   "execution_count": 49,
   "metadata": {
    "collapsed": false
   },
   "outputs": [
    {
     "name": "stdout",
     "output_type": "stream",
     "text": [
      "[[ 1.          1.          1.        ]\n",
      " [ 1.25        1.5625      1.11803399]\n",
      " [ 1.5         2.25        1.22474487]\n",
      " [ 1.75        3.0625      1.32287566]\n",
      " [ 2.          4.          1.41421356]]\n",
      "(76, 3)\n",
      "228\n"
     ]
    }
   ],
   "source": [
    "squares = np.vstack([a, b, c])\n",
    "squares = np.transpose([a, b, c])\n",
    "print(squares[:5])\n",
    "print(squares.shape)\n",
    "print(squares.size)"
   ]
  },
  {
   "cell_type": "code",
   "execution_count": 63,
   "metadata": {
    "collapsed": false
   },
   "outputs": [
    {
     "name": "stdout",
     "output_type": "stream",
     "text": [
      "16.0\n",
      "[  7.5         56.25         2.73861279]\n",
      "[  19.75        390.0625        4.44409721]\n"
     ]
    }
   ],
   "source": [
    "#Q1e\n",
    "print(squares[12,1])\n",
    "print(squares[26,])\n",
    "print(squares[75,])"
   ]
  },
  {
   "cell_type": "code",
   "execution_count": 75,
   "metadata": {
    "collapsed": false
   },
   "outputs": [
    {
     "name": "stdout",
     "output_type": "stream",
     "text": [
      "60822550204416000\n"
     ]
    }
   ],
   "source": [
    "#Q2a\n",
    "import numpy as np\n",
    "a = np.arange(3,20,1)\n",
    "product = 1\n",
    "for x in a:\n",
    "    product = product * x\n",
    "print(product)"
   ]
  },
  {
   "cell_type": "code",
   "execution_count": 88,
   "metadata": {
    "collapsed": false
   },
   "outputs": [
    {
     "name": "stdout",
     "output_type": "stream",
     "text": [
      "11\n"
     ]
    }
   ],
   "source": [
    "#Q2b\n",
    "b = np.arange(1,201,1)\n",
    "count = 0\n",
    "for x in b:\n",
    "    if (x%17==0):\n",
    "        count = count + 1\n",
    "print(count)"
   ]
  },
  {
   "cell_type": "code",
   "execution_count": 98,
   "metadata": {
    "collapsed": false
   },
   "outputs": [
    {
     "name": "stdout",
     "output_type": "stream",
     "text": [
      "head\n"
     ]
    }
   ],
   "source": [
    "#Q3a\n",
    "import random\n",
    "coin1time = np.random.randint(0, 2, 1)\n",
    "b = 0\n",
    "for x in coin1time:\n",
    "    if x==0:\n",
    "        b = b+1\n",
    "if b==1:\n",
    "    print(\"tail\")\n",
    "if b==0:\n",
    "    print(\"head\")"
   ]
  },
  {
   "cell_type": "code",
   "execution_count": 106,
   "metadata": {
    "collapsed": false
   },
   "outputs": [
    {
     "name": "stdout",
     "output_type": "stream",
     "text": [
      "7\n"
     ]
    }
   ],
   "source": [
    "#Q3b\n",
    "coin10time = np.random.randint(0, 2, 10)\n",
    "count = 0\n",
    "for y in coin10time:\n",
    "    if y==0:\n",
    "        count = count + 1\n",
    "print(count)"
   ]
  },
  {
   "cell_type": "code",
   "execution_count": 107,
   "metadata": {
    "collapsed": false
   },
   "outputs": [
    {
     "name": "stdout",
     "output_type": "stream",
     "text": [
      "yes\n"
     ]
    }
   ],
   "source": [
    "#Q3c\n",
    "coin3time = np.random.randint(0,2,3)\n",
    "headcount = 0\n",
    "for z in coin3time:\n",
    "    if z==0:\n",
    "        headcount = headcount + 1\n",
    "if headcount<1:\n",
    "    print(\"no\")\n",
    "if headcount>=1:\n",
    "    print(\"yes\")"
   ]
  },
  {
   "cell_type": "code",
   "execution_count": 28,
   "metadata": {
    "collapsed": false
   },
   "outputs": [
    {
     "name": "stdout",
     "output_type": "stream",
     "text": [
      "1.0\n",
      "100\n"
     ]
    }
   ],
   "source": [
    "#Q3d\n",
    "coin3time = np.random.randint(0, 2, 3)\n",
    "headcount=0\n",
    "trailcount=0\n",
    "for headcount in range (0,100):    \n",
    "    for x in range (0,3):\n",
    "        x = np.random.randint(0,2)\n",
    "        if x==0:\n",
    "            headcount = headcount + 1\n",
    "    if headcount>=1:    \n",
    "        trailcount = trailcount + 1   \n",
    "    headcount = 0\n",
    "fraction = trailcount/100 \n",
    "print(fraction)\n",
    "# I know the fraction cannot be 1.0\n",
    "# I tried to make the number through the loop to get the headcounts in each trail, and through the second loop to get the trailcounts.\n",
    "# I do not know where the mistakes are."
   ]
  },
  {
   "cell_type": "code",
   "execution_count": 20,
   "metadata": {
    "collapsed": true
   },
   "outputs": [],
   "source": [
    "#Q4\n",
    "#I would like to learn to use computational tools to analyze scientific data. I prefer to learn more about the some specific tools that commonly used for biological studies."
   ]
  },
  {
   "cell_type": "code",
   "execution_count": null,
   "metadata": {
    "collapsed": true
   },
   "outputs": [],
   "source": [
    "#Q5\n",
    "#Around 3 hours. I should be need more time if I did this alone."
   ]
  }
 ],
 "metadata": {
  "anaconda-cloud": {},
  "kernelspec": {
   "display_name": "Python [default]",
   "language": "python",
   "name": "python3"
  },
  "language_info": {
   "codemirror_mode": {
    "name": "ipython",
    "version": 3
   },
   "file_extension": ".py",
   "mimetype": "text/x-python",
   "name": "python",
   "nbconvert_exporter": "python",
   "pygments_lexer": "ipython3",
   "version": "3.5.2"
  }
 },
 "nbformat": 4,
 "nbformat_minor": 1
}
